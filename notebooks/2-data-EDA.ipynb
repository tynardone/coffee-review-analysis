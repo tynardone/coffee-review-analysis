{
 "cells": [
  {
   "cell_type": "markdown",
   "metadata": {},
   "source": [
    "# Import libraries"
   ]
  },
  {
   "cell_type": "code",
   "execution_count": null,
   "metadata": {},
   "outputs": [],
   "source": [
    "from pathlib import Path\n",
    "\n",
    "import matplotlib as mpl\n",
    "import matplotlib.pyplot as plt\n",
    "import numpy as np\n",
    "import pandas as pd\n",
    "import seaborn as sns\n",
    "import seaborn.objects as so\n",
    "\n",
    "# Set DPI\n",
    "sns.set_theme(rc={\"figure.dpi\": 96, \"savefig.dpi\": 300})"
   ]
  },
  {
   "cell_type": "markdown",
   "metadata": {},
   "source": [
    "# Import and tweak data"
   ]
  },
  {
   "cell_type": "code",
   "execution_count": 5,
   "metadata": {},
   "outputs": [],
   "source": [
    "# Set up directories\n",
    "BASE_DIR: Path = Path().resolve().parent\n",
    "DATA_DIR: Path = BASE_DIR / \"data\"\n",
    "file: Path = DATA_DIR / \"processed\" / \"05052024_roast_review_cleaned.csv\"\n",
    "df: pd.DataFrame = pd.read_csv(file)"
   ]
  },
  {
   "cell_type": "code",
   "execution_count": 6,
   "metadata": {},
   "outputs": [
    {
     "ename": "KeyError",
     "evalue": "\"['territorial_entity_1_identifiers', 'territorial_entity_2_identifiers', 'roaster_location_identifier', 'territorial_entity_1', 'territorial_entity_2', 'consumer_price_index'] not found in axis\"",
     "output_type": "error",
     "traceback": [
      "\u001b[0;31m---------------------------------------------------------------------------\u001b[0m",
      "\u001b[0;31mKeyError\u001b[0m                                  Traceback (most recent call last)",
      "Cell \u001b[0;32mIn[6], line 39\u001b[0m\n\u001b[1;32m      2\u001b[0m     cols_to_drop \u001b[38;5;241m=\u001b[39m [\n\u001b[1;32m      3\u001b[0m         \u001b[38;5;124m\"\u001b[39m\u001b[38;5;124mterritorial_entity_1_identifiers\u001b[39m\u001b[38;5;124m\"\u001b[39m,\n\u001b[1;32m      4\u001b[0m         \u001b[38;5;124m\"\u001b[39m\u001b[38;5;124mterritorial_entity_2_identifiers\u001b[39m\u001b[38;5;124m\"\u001b[39m,\n\u001b[0;32m   (...)\u001b[0m\n\u001b[1;32m     11\u001b[0m         \u001b[38;5;124m\"\u001b[39m\u001b[38;5;124mquantity_unit\u001b[39m\u001b[38;5;124m\"\u001b[39m,\n\u001b[1;32m     12\u001b[0m     ]\n\u001b[1;32m     13\u001b[0m     \u001b[38;5;28;01mreturn\u001b[39;00m (\n\u001b[1;32m     14\u001b[0m         df\u001b[38;5;241m.\u001b[39mdrop(columns\u001b[38;5;241m=\u001b[39mcols_to_drop)\n\u001b[1;32m     15\u001b[0m         \u001b[38;5;241m.\u001b[39mastype(\n\u001b[0;32m   (...)\u001b[0m\n\u001b[1;32m     35\u001b[0m         \u001b[38;5;241m.\u001b[39mreplace(\u001b[38;5;124m\"\u001b[39m\u001b[38;5;124mUnited Arab Emirates\u001b[39m\u001b[38;5;124m\"\u001b[39m, \u001b[38;5;124m\"\u001b[39m\u001b[38;5;124mUAE\u001b[39m\u001b[38;5;124m\"\u001b[39m)\n\u001b[1;32m     36\u001b[0m     )\n\u001b[0;32m---> 39\u001b[0m coffee \u001b[38;5;241m=\u001b[39m \u001b[43mtweak_df\u001b[49m\u001b[43m(\u001b[49m\u001b[43mdf\u001b[49m\u001b[43m)\u001b[49m\n\u001b[1;32m     40\u001b[0m coffee\u001b[38;5;241m.\u001b[39minfo()\n",
      "Cell \u001b[0;32mIn[6], line 14\u001b[0m, in \u001b[0;36mtweak_df\u001b[0;34m(df)\u001b[0m\n\u001b[1;32m      1\u001b[0m \u001b[38;5;28;01mdef\u001b[39;00m \u001b[38;5;21mtweak_df\u001b[39m(df: pd\u001b[38;5;241m.\u001b[39mDataFrame) \u001b[38;5;241m-\u001b[39m\u001b[38;5;241m>\u001b[39m pd\u001b[38;5;241m.\u001b[39mDataFrame:\n\u001b[1;32m      2\u001b[0m     cols_to_drop \u001b[38;5;241m=\u001b[39m [\n\u001b[1;32m      3\u001b[0m         \u001b[38;5;124m\"\u001b[39m\u001b[38;5;124mterritorial_entity_1_identifiers\u001b[39m\u001b[38;5;124m\"\u001b[39m,\n\u001b[1;32m      4\u001b[0m         \u001b[38;5;124m\"\u001b[39m\u001b[38;5;124mterritorial_entity_2_identifiers\u001b[39m\u001b[38;5;124m\"\u001b[39m,\n\u001b[0;32m   (...)\u001b[0m\n\u001b[1;32m     11\u001b[0m         \u001b[38;5;124m\"\u001b[39m\u001b[38;5;124mquantity_unit\u001b[39m\u001b[38;5;124m\"\u001b[39m,\n\u001b[1;32m     12\u001b[0m     ]\n\u001b[1;32m     13\u001b[0m     \u001b[38;5;28;01mreturn\u001b[39;00m (\n\u001b[0;32m---> 14\u001b[0m         \u001b[43mdf\u001b[49m\u001b[38;5;241;43m.\u001b[39;49m\u001b[43mdrop\u001b[49m\u001b[43m(\u001b[49m\u001b[43mcolumns\u001b[49m\u001b[38;5;241;43m=\u001b[39;49m\u001b[43mcols_to_drop\u001b[49m\u001b[43m)\u001b[49m\n\u001b[1;32m     15\u001b[0m         \u001b[38;5;241m.\u001b[39mastype(\n\u001b[1;32m     16\u001b[0m             {\n\u001b[1;32m     17\u001b[0m                 \u001b[38;5;124m\"\u001b[39m\u001b[38;5;124mcoffee_origin_country\u001b[39m\u001b[38;5;124m\"\u001b[39m: \u001b[38;5;124m\"\u001b[39m\u001b[38;5;124mcategory\u001b[39m\u001b[38;5;124m\"\u001b[39m,\n\u001b[1;32m     18\u001b[0m                 \u001b[38;5;124m\"\u001b[39m\u001b[38;5;124mroast_level\u001b[39m\u001b[38;5;124m\"\u001b[39m: \u001b[38;5;124m\"\u001b[39m\u001b[38;5;124mcategory\u001b[39m\u001b[38;5;124m\"\u001b[39m,\n\u001b[1;32m     19\u001b[0m                 \u001b[38;5;124m\"\u001b[39m\u001b[38;5;124mroaster_us_state\u001b[39m\u001b[38;5;124m\"\u001b[39m: \u001b[38;5;124m\"\u001b[39m\u001b[38;5;124mcategory\u001b[39m\u001b[38;5;124m\"\u001b[39m,\n\u001b[1;32m     20\u001b[0m                 \u001b[38;5;124m\"\u001b[39m\u001b[38;5;124mroaster_country\u001b[39m\u001b[38;5;124m\"\u001b[39m: \u001b[38;5;124m\"\u001b[39m\u001b[38;5;124mcategory\u001b[39m\u001b[38;5;124m\"\u001b[39m,\n\u001b[1;32m     21\u001b[0m                 \u001b[38;5;124m\"\u001b[39m\u001b[38;5;124mreview_date\u001b[39m\u001b[38;5;124m\"\u001b[39m: \u001b[38;5;124m\"\u001b[39m\u001b[38;5;124mdatetime64[ns]\u001b[39m\u001b[38;5;124m\"\u001b[39m,\n\u001b[1;32m     22\u001b[0m                 \u001b[38;5;124m\"\u001b[39m\u001b[38;5;124mrating\u001b[39m\u001b[38;5;124m\"\u001b[39m: \u001b[38;5;124m\"\u001b[39m\u001b[38;5;124mfloat64\u001b[39m\u001b[38;5;124m\"\u001b[39m,\n\u001b[1;32m     23\u001b[0m             }\n\u001b[1;32m     24\u001b[0m         )\n\u001b[1;32m     25\u001b[0m         \u001b[38;5;241m.\u001b[39mastype(\n\u001b[1;32m     26\u001b[0m             {col: \u001b[38;5;124m\"\u001b[39m\u001b[38;5;124mint\u001b[39m\u001b[38;5;124m\"\u001b[39m \u001b[38;5;28;01mfor\u001b[39;00m col \u001b[38;5;129;01min\u001b[39;00m [\u001b[38;5;124m\"\u001b[39m\u001b[38;5;124maroma\u001b[39m\u001b[38;5;124m\"\u001b[39m, \u001b[38;5;124m\"\u001b[39m\u001b[38;5;124maftertaste\u001b[39m\u001b[38;5;124m\"\u001b[39m, \u001b[38;5;124m\"\u001b[39m\u001b[38;5;124macidity\u001b[39m\u001b[38;5;124m\"\u001b[39m, \u001b[38;5;124m\"\u001b[39m\u001b[38;5;124mbody\u001b[39m\u001b[38;5;124m\"\u001b[39m, \u001b[38;5;124m\"\u001b[39m\u001b[38;5;124mflavor\u001b[39m\u001b[38;5;124m\"\u001b[39m]}\n\u001b[1;32m     27\u001b[0m         )\n\u001b[1;32m     28\u001b[0m         \u001b[38;5;241m.\u001b[39massign(year\u001b[38;5;241m=\u001b[39m\u001b[38;5;28;01mlambda\u001b[39;00m x: x[\u001b[38;5;124m\"\u001b[39m\u001b[38;5;124mreview_date\u001b[39m\u001b[38;5;124m\"\u001b[39m]\u001b[38;5;241m.\u001b[39mdt\u001b[38;5;241m.\u001b[39myear)\n\u001b[1;32m     29\u001b[0m         \u001b[38;5;241m.\u001b[39mrename(columns\u001b[38;5;241m=\u001b[39m{\u001b[38;5;124m\"\u001b[39m\u001b[38;5;124mprice_usd_adj_2024_per_lb\u001b[39m\u001b[38;5;124m\"\u001b[39m: \u001b[38;5;124m\"\u001b[39m\u001b[38;5;124mprice_usd_adj_lb\u001b[39m\u001b[38;5;124m\"\u001b[39m})\n\u001b[1;32m     30\u001b[0m         \u001b[38;5;66;03m# Gesha and Geisha refer to the same coffee varietal\u001b[39;00m\n\u001b[1;32m     31\u001b[0m         \u001b[38;5;241m.\u001b[39mreplace(\u001b[38;5;124mr\u001b[39m\u001b[38;5;124m\"\u001b[39m\u001b[38;5;124mGesha\u001b[39m\u001b[38;5;124m\"\u001b[39m, \u001b[38;5;124m\"\u001b[39m\u001b[38;5;124mGeisha\u001b[39m\u001b[38;5;124m\"\u001b[39m, regex\u001b[38;5;241m=\u001b[39m\u001b[38;5;28;01mTrue\u001b[39;00m)\n\u001b[1;32m     32\u001b[0m         \u001b[38;5;66;03m# Rename for better readability when plotting\u001b[39;00m\n\u001b[1;32m     33\u001b[0m         \u001b[38;5;241m.\u001b[39mreplace(\u001b[38;5;124m\"\u001b[39m\u001b[38;5;124mDemocratic Republic of the Congo\u001b[39m\u001b[38;5;124m\"\u001b[39m, \u001b[38;5;124m\"\u001b[39m\u001b[38;5;124mCongo (DRC)\u001b[39m\u001b[38;5;124m\"\u001b[39m)\n\u001b[1;32m     34\u001b[0m         \u001b[38;5;241m.\u001b[39mreplace(\u001b[38;5;124m\"\u001b[39m\u001b[38;5;124mPeople\u001b[39m\u001b[38;5;124m'\u001b[39m\u001b[38;5;124ms Republic of China\u001b[39m\u001b[38;5;124m\"\u001b[39m, \u001b[38;5;124m\"\u001b[39m\u001b[38;5;124mChina\u001b[39m\u001b[38;5;124m\"\u001b[39m)\n\u001b[1;32m     35\u001b[0m         \u001b[38;5;241m.\u001b[39mreplace(\u001b[38;5;124m\"\u001b[39m\u001b[38;5;124mUnited Arab Emirates\u001b[39m\u001b[38;5;124m\"\u001b[39m, \u001b[38;5;124m\"\u001b[39m\u001b[38;5;124mUAE\u001b[39m\u001b[38;5;124m\"\u001b[39m)\n\u001b[1;32m     36\u001b[0m     )\n",
      "File \u001b[0;32m~/Projects/coffee-review/venv/lib/python3.12/site-packages/pandas/core/frame.py:5581\u001b[0m, in \u001b[0;36mDataFrame.drop\u001b[0;34m(self, labels, axis, index, columns, level, inplace, errors)\u001b[0m\n\u001b[1;32m   5433\u001b[0m \u001b[38;5;28;01mdef\u001b[39;00m \u001b[38;5;21mdrop\u001b[39m(\n\u001b[1;32m   5434\u001b[0m     \u001b[38;5;28mself\u001b[39m,\n\u001b[1;32m   5435\u001b[0m     labels: IndexLabel \u001b[38;5;241m|\u001b[39m \u001b[38;5;28;01mNone\u001b[39;00m \u001b[38;5;241m=\u001b[39m \u001b[38;5;28;01mNone\u001b[39;00m,\n\u001b[0;32m   (...)\u001b[0m\n\u001b[1;32m   5442\u001b[0m     errors: IgnoreRaise \u001b[38;5;241m=\u001b[39m \u001b[38;5;124m\"\u001b[39m\u001b[38;5;124mraise\u001b[39m\u001b[38;5;124m\"\u001b[39m,\n\u001b[1;32m   5443\u001b[0m ) \u001b[38;5;241m-\u001b[39m\u001b[38;5;241m>\u001b[39m DataFrame \u001b[38;5;241m|\u001b[39m \u001b[38;5;28;01mNone\u001b[39;00m:\n\u001b[1;32m   5444\u001b[0m \u001b[38;5;250m    \u001b[39m\u001b[38;5;124;03m\"\"\"\u001b[39;00m\n\u001b[1;32m   5445\u001b[0m \u001b[38;5;124;03m    Drop specified labels from rows or columns.\u001b[39;00m\n\u001b[1;32m   5446\u001b[0m \n\u001b[0;32m   (...)\u001b[0m\n\u001b[1;32m   5579\u001b[0m \u001b[38;5;124;03m            weight  1.0     0.8\u001b[39;00m\n\u001b[1;32m   5580\u001b[0m \u001b[38;5;124;03m    \"\"\"\u001b[39;00m\n\u001b[0;32m-> 5581\u001b[0m     \u001b[38;5;28;01mreturn\u001b[39;00m \u001b[38;5;28;43msuper\u001b[39;49m\u001b[43m(\u001b[49m\u001b[43m)\u001b[49m\u001b[38;5;241;43m.\u001b[39;49m\u001b[43mdrop\u001b[49m\u001b[43m(\u001b[49m\n\u001b[1;32m   5582\u001b[0m \u001b[43m        \u001b[49m\u001b[43mlabels\u001b[49m\u001b[38;5;241;43m=\u001b[39;49m\u001b[43mlabels\u001b[49m\u001b[43m,\u001b[49m\n\u001b[1;32m   5583\u001b[0m \u001b[43m        \u001b[49m\u001b[43maxis\u001b[49m\u001b[38;5;241;43m=\u001b[39;49m\u001b[43maxis\u001b[49m\u001b[43m,\u001b[49m\n\u001b[1;32m   5584\u001b[0m \u001b[43m        \u001b[49m\u001b[43mindex\u001b[49m\u001b[38;5;241;43m=\u001b[39;49m\u001b[43mindex\u001b[49m\u001b[43m,\u001b[49m\n\u001b[1;32m   5585\u001b[0m \u001b[43m        \u001b[49m\u001b[43mcolumns\u001b[49m\u001b[38;5;241;43m=\u001b[39;49m\u001b[43mcolumns\u001b[49m\u001b[43m,\u001b[49m\n\u001b[1;32m   5586\u001b[0m \u001b[43m        \u001b[49m\u001b[43mlevel\u001b[49m\u001b[38;5;241;43m=\u001b[39;49m\u001b[43mlevel\u001b[49m\u001b[43m,\u001b[49m\n\u001b[1;32m   5587\u001b[0m \u001b[43m        \u001b[49m\u001b[43minplace\u001b[49m\u001b[38;5;241;43m=\u001b[39;49m\u001b[43minplace\u001b[49m\u001b[43m,\u001b[49m\n\u001b[1;32m   5588\u001b[0m \u001b[43m        \u001b[49m\u001b[43merrors\u001b[49m\u001b[38;5;241;43m=\u001b[39;49m\u001b[43merrors\u001b[49m\u001b[43m,\u001b[49m\n\u001b[1;32m   5589\u001b[0m \u001b[43m    \u001b[49m\u001b[43m)\u001b[49m\n",
      "File \u001b[0;32m~/Projects/coffee-review/venv/lib/python3.12/site-packages/pandas/core/generic.py:4788\u001b[0m, in \u001b[0;36mNDFrame.drop\u001b[0;34m(self, labels, axis, index, columns, level, inplace, errors)\u001b[0m\n\u001b[1;32m   4786\u001b[0m \u001b[38;5;28;01mfor\u001b[39;00m axis, labels \u001b[38;5;129;01min\u001b[39;00m axes\u001b[38;5;241m.\u001b[39mitems():\n\u001b[1;32m   4787\u001b[0m     \u001b[38;5;28;01mif\u001b[39;00m labels \u001b[38;5;129;01mis\u001b[39;00m \u001b[38;5;129;01mnot\u001b[39;00m \u001b[38;5;28;01mNone\u001b[39;00m:\n\u001b[0;32m-> 4788\u001b[0m         obj \u001b[38;5;241m=\u001b[39m \u001b[43mobj\u001b[49m\u001b[38;5;241;43m.\u001b[39;49m\u001b[43m_drop_axis\u001b[49m\u001b[43m(\u001b[49m\u001b[43mlabels\u001b[49m\u001b[43m,\u001b[49m\u001b[43m \u001b[49m\u001b[43maxis\u001b[49m\u001b[43m,\u001b[49m\u001b[43m \u001b[49m\u001b[43mlevel\u001b[49m\u001b[38;5;241;43m=\u001b[39;49m\u001b[43mlevel\u001b[49m\u001b[43m,\u001b[49m\u001b[43m \u001b[49m\u001b[43merrors\u001b[49m\u001b[38;5;241;43m=\u001b[39;49m\u001b[43merrors\u001b[49m\u001b[43m)\u001b[49m\n\u001b[1;32m   4790\u001b[0m \u001b[38;5;28;01mif\u001b[39;00m inplace:\n\u001b[1;32m   4791\u001b[0m     \u001b[38;5;28mself\u001b[39m\u001b[38;5;241m.\u001b[39m_update_inplace(obj)\n",
      "File \u001b[0;32m~/Projects/coffee-review/venv/lib/python3.12/site-packages/pandas/core/generic.py:4830\u001b[0m, in \u001b[0;36mNDFrame._drop_axis\u001b[0;34m(self, labels, axis, level, errors, only_slice)\u001b[0m\n\u001b[1;32m   4828\u001b[0m         new_axis \u001b[38;5;241m=\u001b[39m axis\u001b[38;5;241m.\u001b[39mdrop(labels, level\u001b[38;5;241m=\u001b[39mlevel, errors\u001b[38;5;241m=\u001b[39merrors)\n\u001b[1;32m   4829\u001b[0m     \u001b[38;5;28;01melse\u001b[39;00m:\n\u001b[0;32m-> 4830\u001b[0m         new_axis \u001b[38;5;241m=\u001b[39m \u001b[43maxis\u001b[49m\u001b[38;5;241;43m.\u001b[39;49m\u001b[43mdrop\u001b[49m\u001b[43m(\u001b[49m\u001b[43mlabels\u001b[49m\u001b[43m,\u001b[49m\u001b[43m \u001b[49m\u001b[43merrors\u001b[49m\u001b[38;5;241;43m=\u001b[39;49m\u001b[43merrors\u001b[49m\u001b[43m)\u001b[49m\n\u001b[1;32m   4831\u001b[0m     indexer \u001b[38;5;241m=\u001b[39m axis\u001b[38;5;241m.\u001b[39mget_indexer(new_axis)\n\u001b[1;32m   4833\u001b[0m \u001b[38;5;66;03m# Case for non-unique axis\u001b[39;00m\n\u001b[1;32m   4834\u001b[0m \u001b[38;5;28;01melse\u001b[39;00m:\n",
      "File \u001b[0;32m~/Projects/coffee-review/venv/lib/python3.12/site-packages/pandas/core/indexes/base.py:7070\u001b[0m, in \u001b[0;36mIndex.drop\u001b[0;34m(self, labels, errors)\u001b[0m\n\u001b[1;32m   7068\u001b[0m \u001b[38;5;28;01mif\u001b[39;00m mask\u001b[38;5;241m.\u001b[39many():\n\u001b[1;32m   7069\u001b[0m     \u001b[38;5;28;01mif\u001b[39;00m errors \u001b[38;5;241m!=\u001b[39m \u001b[38;5;124m\"\u001b[39m\u001b[38;5;124mignore\u001b[39m\u001b[38;5;124m\"\u001b[39m:\n\u001b[0;32m-> 7070\u001b[0m         \u001b[38;5;28;01mraise\u001b[39;00m \u001b[38;5;167;01mKeyError\u001b[39;00m(\u001b[38;5;124mf\u001b[39m\u001b[38;5;124m\"\u001b[39m\u001b[38;5;132;01m{\u001b[39;00mlabels[mask]\u001b[38;5;241m.\u001b[39mtolist()\u001b[38;5;132;01m}\u001b[39;00m\u001b[38;5;124m not found in axis\u001b[39m\u001b[38;5;124m\"\u001b[39m)\n\u001b[1;32m   7071\u001b[0m     indexer \u001b[38;5;241m=\u001b[39m indexer[\u001b[38;5;241m~\u001b[39mmask]\n\u001b[1;32m   7072\u001b[0m \u001b[38;5;28;01mreturn\u001b[39;00m \u001b[38;5;28mself\u001b[39m\u001b[38;5;241m.\u001b[39mdelete(indexer)\n",
      "\u001b[0;31mKeyError\u001b[0m: \"['territorial_entity_1_identifiers', 'territorial_entity_2_identifiers', 'roaster_location_identifier', 'territorial_entity_1', 'territorial_entity_2', 'consumer_price_index'] not found in axis\""
     ]
    }
   ],
   "source": [
    "def tweak_df(df: pd.DataFrame) -> pd.DataFrame:\n",
    "    cols_to_drop = [\n",
    "        \"territorial_entity_1_identifiers\",\n",
    "        \"territorial_entity_2_identifiers\",\n",
    "        \"roaster_location_identifier\",\n",
    "        \"territorial_entity_1\",\n",
    "        \"territorial_entity_2\",\n",
    "        \"est_price\",\n",
    "        \"consumer_price_index\",\n",
    "        \"quantity_value\",\n",
    "        \"quantity_unit\",\n",
    "    ]\n",
    "    return (\n",
    "        df.drop(columns=cols_to_drop)\n",
    "        .astype(\n",
    "            {\n",
    "                \"coffee_origin_country\": \"category\",\n",
    "                \"roast_level\": \"category\",\n",
    "                \"roaster_us_state\": \"category\",\n",
    "                \"roaster_country\": \"category\",\n",
    "                \"review_date\": \"datetime64[ns]\",\n",
    "                \"rating\": \"float64\",\n",
    "            }\n",
    "        )\n",
    "        .astype(\n",
    "            {col: \"int\" for col in [\"aroma\", \"aftertaste\", \"acidity\", \"body\", \"flavor\"]}\n",
    "        )\n",
    "        .assign(year=lambda x: x[\"review_date\"].dt.year)\n",
    "        .rename(columns={\"price_usd_adj_2024_per_lb\": \"price_usd_adj_lb\"})\n",
    "        # Gesha and Geisha refer to the same coffee varietal\n",
    "        .replace(r\"Gesha\", \"Geisha\", regex=True)\n",
    "        # Rename for better readability when plotting\n",
    "        .replace(\"Democratic Republic of the Congo\", \"Congo (DRC)\")\n",
    "        .replace(\"People's Republic of China\", \"China\")\n",
    "        .replace(\"United Arab Emirates\", \"UAE\")\n",
    "    )\n",
    "\n",
    "\n",
    "coffee = tweak_df(df)\n",
    "coffee.info()"
   ]
  },
  {
   "cell_type": "code",
   "execution_count": null,
   "metadata": {},
   "outputs": [
    {
     "ename": "NameError",
     "evalue": "name 'coffee' is not defined",
     "output_type": "error",
     "traceback": [
      "\u001b[0;31m---------------------------------------------------------------------------\u001b[0m",
      "\u001b[0;31mNameError\u001b[0m                                 Traceback (most recent call last)",
      "Cell \u001b[0;32mIn[4], line 1\u001b[0m\n\u001b[0;32m----> 1\u001b[0m \u001b[43mcoffee\u001b[49m\u001b[38;5;241m.\u001b[39mdescribe()\n",
      "\u001b[0;31mNameError\u001b[0m: name 'coffee' is not defined"
     ]
    }
   ],
   "source": [
    "coffee.describe()"
   ]
  },
  {
   "cell_type": "markdown",
   "metadata": {},
   "source": [
    "# Overview"
   ]
  },
  {
   "cell_type": "markdown",
   "metadata": {},
   "source": [
    "\n",
    "This data set contains 4232 roast reviews from March 2010 to January 2024.\n",
    "\n",
    "Ratings vary from 75 to 98 with a median score of 93. Coffeereviews.com chooses to focus on reviewing quality specialty coffees, as such ratings are generally high. Therefore this dataset cannot be taken to be a representative sample of coffees on the market. But it will be useful to understand the variation and characteristics of these selected coffees as representing the higher quality end of the market.\n",
    "\n",
    "\n",
    "### Rating\n",
    "Coffee total ratings are on a 100 point scale. Ratings are meant to be interpreted [as follows](https://www.coffeereview.com/how-coffee-review-works/):\n",
    "\n",
    "> 97+ = Means: “We have not tasted a coffee of this style as splendid as this one for a long, long time”\n",
    ">\n",
    "> 95-96 = Perfect in structure, flawless, and shockingly distinctive and beautiful\n",
    ">\n",
    "> 93-94 = Exceptional originality, beauty, individuality and distinction, with no significant negative issues whatsoever\n",
    ">\n",
    "> 91-92 = An very good to outstanding coffee with excitement and distinction in aroma and flavor – or an exceptional coffee that still perhaps has some issue that some consumers may object to but others will love – a big, slightly imbalanced acidity, for example, or an overly lush fruit\n",
    "> \n",
    "> 89-90 = A very good coffee, drinkable, with considerable distinction and interest.\n",
    "> \n",
    "> 87-88 = An interesting coffee but either distinctive yet mildly flawed, or solid but not exciting.\n",
    "> \n",
    "> 85/86 = An acceptable, solid coffee, but nothing exceptional — the best high-end supermarket whole bean.\n",
    "\n",
    "### Aroma\n",
    "\n",
    "\n",
    "### Fields\n",
    "- `rating`: Overall rating of roast on a scale of 0-100\n",
    "- `roaster`: Name of roaster\n",
    "- `title`:  Name of the roast\n",
    "- `blind_assessment`: Description of the roast from a blind tasting\n",
    "- `bottom_line`: Summary of the roast\n",
    "- `roaster_location`: Location of the roaster\n",
    "- `coordinate location`: Coordinates of the roaster location\n",
    "- `og_roaster_location`: Location of roaster as seen on the website\n",
    "- `roaster_country`: Country of the roaster\n",
    "- `coffee_origin`: Origin of the coffee including region\n",
    "- `coffee_origin_country`: Country of origin of the coffee\n",
    "- `roast_level`: Light, Medium-Light, Medium, Medium-Dark, Dark, Very Dark\n",
    "- `review_date`: Date of the review\n",
    "- `aroma`: Rating of aroma on a scale of 0-10\n",
    "- `body`: Rating of body on a scale of 0-10\n",
    "- `flavor`: Rating of flavor on a scale of 0-10\n",
    "- `aftertaste`: Rating of aftertaste on a scale of 0-10\n",
    "- `url`: URL of the review\n",
    "- `acidity`: Rating of acidity on a scale of 0-10\n",
    "- `notes`: Prominent flavors and aromas\n",
    "- `agtron_external`: Agtron rating of the roast\n",
    "- `agtron_ground`: Agtron rating of the ground roast\n",
    "- `price_value`: Price of the roast\n",
    "- `price_currency`: Currency of the `price_value`\n",
    "- `price_value_usd_hist`: Price value in USD at the time of the review\n",
    "- `price_usd_adj_2024`: Price value in USD adjusted for inflation to 2024\n",
    "- `quantity_in_lbs`: Quantity of the roast in pounds\n",
    "- `price_usd_adj_lb`: Price per pound in USD adjusted for inflation to 2024\n",
    "- `roaster_county`: County of the roaster\n",
    "- `roaster_us_state`: State of the roaster if in the US\n",
    "- `year`: Year of the review"
   ]
  },
  {
   "cell_type": "markdown",
   "metadata": {},
   "source": [
    "### Avg rating over time"
   ]
  },
  {
   "cell_type": "code",
   "execution_count": 5,
   "metadata": {},
   "outputs": [
    {
     "ename": "NameError",
     "evalue": "name 'coffee' is not defined",
     "output_type": "error",
     "traceback": [
      "\u001b[0;31m---------------------------------------------------------------------------\u001b[0m",
      "\u001b[0;31mNameError\u001b[0m                                 Traceback (most recent call last)",
      "Cell \u001b[0;32mIn[5], line 3\u001b[0m\n\u001b[1;32m      1\u001b[0m \u001b[38;5;66;03m# Average rating per year\u001b[39;00m\n\u001b[1;32m      2\u001b[0m (\n\u001b[0;32m----> 3\u001b[0m     \u001b[43mcoffee\u001b[49m\u001b[38;5;241m.\u001b[39mpipe(so\u001b[38;5;241m.\u001b[39mPlot, x\u001b[38;5;241m=\u001b[39m\u001b[38;5;124m\"\u001b[39m\u001b[38;5;124myear\u001b[39m\u001b[38;5;124m\"\u001b[39m, y\u001b[38;5;241m=\u001b[39m\u001b[38;5;124m\"\u001b[39m\u001b[38;5;124mrating\u001b[39m\u001b[38;5;124m\"\u001b[39m)\n\u001b[1;32m      4\u001b[0m     \u001b[38;5;241m.\u001b[39mlayout(size\u001b[38;5;241m=\u001b[39m(\u001b[38;5;241m10.5\u001b[39m, \u001b[38;5;241m5\u001b[39m))\n\u001b[1;32m      5\u001b[0m     \u001b[38;5;241m.\u001b[39madd(so\u001b[38;5;241m.\u001b[39mLine(linewidth\u001b[38;5;241m=\u001b[39m\u001b[38;5;241m3\u001b[39m), so\u001b[38;5;241m.\u001b[39mAgg(\u001b[38;5;124m\"\u001b[39m\u001b[38;5;124mmean\u001b[39m\u001b[38;5;124m\"\u001b[39m))\n\u001b[1;32m      6\u001b[0m     \u001b[38;5;241m.\u001b[39madd(so\u001b[38;5;241m.\u001b[39mDot(), so\u001b[38;5;241m.\u001b[39mAgg(\u001b[38;5;124m\"\u001b[39m\u001b[38;5;124mmean\u001b[39m\u001b[38;5;124m\"\u001b[39m))\n\u001b[1;32m      7\u001b[0m     \u001b[38;5;241m.\u001b[39mlabel(x\u001b[38;5;241m=\u001b[39m\u001b[38;5;124m\"\u001b[39m\u001b[38;5;124m\"\u001b[39m, y\u001b[38;5;241m=\u001b[39m\u001b[38;5;124m\"\u001b[39m\u001b[38;5;124mAvg Rating\u001b[39m\u001b[38;5;124m\"\u001b[39m, title\u001b[38;5;241m=\u001b[39m\u001b[38;5;124m\"\u001b[39m\u001b[38;5;124mAverage Rating per Year\u001b[39m\u001b[38;5;124m\"\u001b[39m)\n\u001b[1;32m      8\u001b[0m )\n",
      "\u001b[0;31mNameError\u001b[0m: name 'coffee' is not defined"
     ]
    }
   ],
   "source": [
    "# Average rating per year\n",
    "(\n",
    "    coffee.pipe(so.Plot, x=\"year\", y=\"rating\")\n",
    "    .layout(size=(10.5, 5))\n",
    "    .add(so.Line(linewidth=3), so.Agg(\"mean\"))\n",
    "    .add(so.Dot(), so.Agg(\"mean\"))\n",
    "    .label(x=\"\", y=\"Avg Rating\", title=\"Average Rating per Year\")\n",
    ")"
   ]
  },
  {
   "cell_type": "markdown",
   "metadata": {},
   "source": [
    "Because of the selective review process the quality has always been on the high end of the possible range. We can see there is a clear uptick in the average coffee roast rating every year, increasing from just over 91 to just over 93 points from 2010 to 2024. Coffeereview acknowledges this, and believes it is a result of industry competition creating rising bar of quality: \n",
    "\n",
    ">\"Also, we have found that the high end of the global coffee community has been relentlessly raising the bar for quality and distinction over the past ten years. We receive considerably more consistently fine samples now than we did even five years ago. So if the ratings at Coffee Review appear to be creeping higher, the reason may not be ratings inflation, but rather a reflection of intensified competition and achievement at the top end of the industry.\""
   ]
  },
  {
   "cell_type": "markdown",
   "metadata": {},
   "source": [
    "### Avg price/lb over time"
   ]
  },
  {
   "cell_type": "code",
   "execution_count": 6,
   "metadata": {},
   "outputs": [
    {
     "ename": "NameError",
     "evalue": "name 'coffee' is not defined",
     "output_type": "error",
     "traceback": [
      "\u001b[0;31m---------------------------------------------------------------------------\u001b[0m",
      "\u001b[0;31mNameError\u001b[0m                                 Traceback (most recent call last)",
      "Cell \u001b[0;32mIn[6], line 7\u001b[0m\n\u001b[1;32m      2\u001b[0m sf1, sf2 \u001b[38;5;241m=\u001b[39m f\u001b[38;5;241m.\u001b[39msubfigures(\u001b[38;5;241m1\u001b[39m, \u001b[38;5;241m2\u001b[39m)\n\u001b[1;32m      5\u001b[0m \u001b[38;5;66;03m# Average real price per year\u001b[39;00m\n\u001b[1;32m      6\u001b[0m (\n\u001b[0;32m----> 7\u001b[0m     \u001b[43mcoffee\u001b[49m\u001b[38;5;241m.\u001b[39mloc[coffee[\u001b[38;5;124m\"\u001b[39m\u001b[38;5;124myear\u001b[39m\u001b[38;5;124m\"\u001b[39m] \u001b[38;5;241m<\u001b[39m \u001b[38;5;241m2024\u001b[39m]\n\u001b[1;32m      8\u001b[0m     \u001b[38;5;241m.\u001b[39mpipe(so\u001b[38;5;241m.\u001b[39mPlot, x\u001b[38;5;241m=\u001b[39m\u001b[38;5;124m\"\u001b[39m\u001b[38;5;124myear\u001b[39m\u001b[38;5;124m\"\u001b[39m, y\u001b[38;5;241m=\u001b[39m\u001b[38;5;124m\"\u001b[39m\u001b[38;5;124mprice_usd_adj_lb\u001b[39m\u001b[38;5;124m\"\u001b[39m)\n\u001b[1;32m      9\u001b[0m     \u001b[38;5;241m.\u001b[39mlayout(size\u001b[38;5;241m=\u001b[39m(\u001b[38;5;241m10.5\u001b[39m, \u001b[38;5;241m7\u001b[39m))\n\u001b[1;32m     10\u001b[0m     \u001b[38;5;241m.\u001b[39madd(so\u001b[38;5;241m.\u001b[39mLine(linewidth\u001b[38;5;241m=\u001b[39m\u001b[38;5;241m3\u001b[39m), so\u001b[38;5;241m.\u001b[39mAgg(\u001b[38;5;124m\"\u001b[39m\u001b[38;5;124mmean\u001b[39m\u001b[38;5;124m\"\u001b[39m))\n\u001b[1;32m     11\u001b[0m     \u001b[38;5;241m.\u001b[39madd(so\u001b[38;5;241m.\u001b[39mDot(), so\u001b[38;5;241m.\u001b[39mAgg(\u001b[38;5;124m\"\u001b[39m\u001b[38;5;124mmean\u001b[39m\u001b[38;5;124m\"\u001b[39m))\n\u001b[1;32m     12\u001b[0m     \u001b[38;5;241m.\u001b[39mlabel(x\u001b[38;5;241m=\u001b[39m\u001b[38;5;124m\"\u001b[39m\u001b[38;5;124m\"\u001b[39m, y\u001b[38;5;241m=\u001b[39m\u001b[38;5;124m\"\u001b[39m\u001b[38;5;124mPrice (USD)\u001b[39m\u001b[38;5;124m\"\u001b[39m, title\u001b[38;5;241m=\u001b[39m\u001b[38;5;124m\"\u001b[39m\u001b[38;5;124mAvg Price\u001b[39m\u001b[38;5;124m\"\u001b[39m)\n\u001b[1;32m     13\u001b[0m     \u001b[38;5;241m.\u001b[39mon(sf1)\n\u001b[1;32m     14\u001b[0m     \u001b[38;5;241m.\u001b[39mplot()\n\u001b[1;32m     15\u001b[0m )\n\u001b[1;32m     17\u001b[0m \u001b[38;5;66;03m# Average real price and max real price per year\u001b[39;00m\n\u001b[1;32m     18\u001b[0m (\n\u001b[1;32m     19\u001b[0m     coffee\u001b[38;5;241m.\u001b[39mgroupby(\u001b[38;5;124m\"\u001b[39m\u001b[38;5;124myear\u001b[39m\u001b[38;5;124m\"\u001b[39m)\n\u001b[1;32m     20\u001b[0m     \u001b[38;5;241m.\u001b[39magg({\u001b[38;5;124m\"\u001b[39m\u001b[38;5;124mprice_usd_adj_lb\u001b[39m\u001b[38;5;124m\"\u001b[39m: [\u001b[38;5;124m\"\u001b[39m\u001b[38;5;124mmean\u001b[39m\u001b[38;5;124m\"\u001b[39m, \u001b[38;5;124m\"\u001b[39m\u001b[38;5;124mmax\u001b[39m\u001b[38;5;124m\"\u001b[39m]})\n\u001b[0;32m   (...)\u001b[0m\n\u001b[1;32m     30\u001b[0m     \u001b[38;5;241m.\u001b[39mplot()\n\u001b[1;32m     31\u001b[0m )\n",
      "\u001b[0;31mNameError\u001b[0m: name 'coffee' is not defined"
     ]
    }
   ],
   "source": [
    "f = mpl.figure.Figure(figsize=(10, 5))\n",
    "sf1, sf2 = f.subfigures(1, 2)\n",
    "\n",
    "\n",
    "# Average real price per year\n",
    "(\n",
    "    coffee.loc[coffee[\"year\"] < 2024]\n",
    "    .pipe(so.Plot, x=\"year\", y=\"price_usd_adj_lb\")\n",
    "    .layout(size=(10.5, 7))\n",
    "    .add(so.Line(linewidth=3), so.Agg(\"mean\"))\n",
    "    .add(so.Dot(), so.Agg(\"mean\"))\n",
    "    .label(x=\"\", y=\"Price (USD)\", title=\"Avg Price\")\n",
    "    .on(sf1)\n",
    "    .plot()\n",
    ")\n",
    "\n",
    "# Average real price and max real price per year\n",
    "(\n",
    "    coffee.groupby(\"year\")\n",
    "    .agg({\"price_usd_adj_lb\": [\"mean\", \"max\"]})\n",
    "    .melt(value_name=\"price\", ignore_index=False)\n",
    "    .rename(columns={\"variable_1\": \"stat\"})\n",
    "    .reset_index()\n",
    "    .loc[lambda x: x[\"year\"] < 2024, :]\n",
    "    .pipe(so.Plot, x=\"year\", y=\"price\", color=\"stat\", linestyle=\"stat\")\n",
    "    .add(so.Line(linewidth=3))\n",
    "    .label(x=\"\", y=\"\", title=\"Avg and Max Price\")\n",
    "    .add(so.Dot())\n",
    "    .on(sf2)\n",
    "    .plot()\n",
    ")"
   ]
  },
  {
   "cell_type": "markdown",
   "metadata": {},
   "source": [
    "The average price in USD of reviewed coffees has also increased over time, after adjusting for inflation. This could be mirroring the increase in average rating over time, or due to any number of other production and economic factors. There is a large spike in the average price in 2019 and 2020 that appears to be cause by a few large outliers of specialty coffees commanding enormous $/lb prices. We will dive into this later."
   ]
  },
  {
   "cell_type": "markdown",
   "metadata": {},
   "source": [
    "### Top coffee origin and roaster countries"
   ]
  },
  {
   "cell_type": "code",
   "execution_count": 8,
   "metadata": {},
   "outputs": [
    {
     "ename": "NameError",
     "evalue": "name 'coffee' is not defined",
     "output_type": "error",
     "traceback": [
      "\u001b[0;31m---------------------------------------------------------------------------\u001b[0m",
      "\u001b[0;31mNameError\u001b[0m                                 Traceback (most recent call last)",
      "Cell \u001b[0;32mIn[8], line 1\u001b[0m\n\u001b[0;32m----> 1\u001b[0m \u001b[38;5;28mprint\u001b[39m(\u001b[38;5;124m\"\u001b[39m\u001b[38;5;124mNo. origin countries: \u001b[39m\u001b[38;5;124m\"\u001b[39m, \u001b[43mcoffee\u001b[49m[\u001b[38;5;124m\"\u001b[39m\u001b[38;5;124mcoffee_origin_country\u001b[39m\u001b[38;5;124m\"\u001b[39m]\u001b[38;5;241m.\u001b[39mnunique())\n\u001b[1;32m      2\u001b[0m \u001b[38;5;28mprint\u001b[39m(\u001b[38;5;124m\"\u001b[39m\u001b[38;5;124mNo. roaster countries: \u001b[39m\u001b[38;5;124m\"\u001b[39m, coffee[\u001b[38;5;124m\"\u001b[39m\u001b[38;5;124mroaster_country\u001b[39m\u001b[38;5;124m\"\u001b[39m]\u001b[38;5;241m.\u001b[39mnunique())\n\u001b[1;32m      5\u001b[0m origin_count \u001b[38;5;241m=\u001b[39m coffee[\u001b[38;5;124m\"\u001b[39m\u001b[38;5;124mcoffee_origin_country\u001b[39m\u001b[38;5;124m\"\u001b[39m]\u001b[38;5;241m.\u001b[39mvalue_counts()\u001b[38;5;241m.\u001b[39mhead(\u001b[38;5;241m15\u001b[39m)\u001b[38;5;241m.\u001b[39mreset_index()\n",
      "\u001b[0;31mNameError\u001b[0m: name 'coffee' is not defined"
     ]
    }
   ],
   "source": [
    "print(\"No. origin countries: \", coffee[\"coffee_origin_country\"].nunique())\n",
    "print(\"No. roaster countries: \", coffee[\"roaster_country\"].nunique())\n",
    "\n",
    "\n",
    "origin_count = coffee[\"coffee_origin_country\"].value_counts().head(15).reset_index()\n",
    "roaster_count = coffee[\"roaster_country\"].value_counts().head(15).reset_index()\n",
    "\n",
    "\n",
    "def annotate(iter, ax, fontsize: int) -> None:\n",
    "    for i, v in enumerate(iter):\n",
    "        ax.text(v + 3, i, str(v), color=\"black\", va=\"center\", fontsize=fontsize)\n",
    "\n",
    "\n",
    "fig, (ax1, ax2) = plt.subplots(1, 2, figsize=(12, 6), dpi=300)\n",
    "sns.barplot(\n",
    "    origin_count,\n",
    "    y=\"coffee_origin_country\",\n",
    "    x=\"count\",\n",
    "    order=origin_count[\"coffee_origin_country\"],\n",
    "    ax=ax1,\n",
    "    color=\"#6495ed\",\n",
    ")\n",
    "\n",
    "sns.barplot(\n",
    "    roaster_count,\n",
    "    y=\"roaster_country\",\n",
    "    x=\"count\",\n",
    "    ax=ax2,\n",
    "    order=roaster_count[\"roaster_country\"],\n",
    "    color=\"tomato\",\n",
    ")\n",
    "\n",
    "# annotate bars\n",
    "annotate(origin_count[\"count\"], ax1, 10)\n",
    "annotate(roaster_count[\"count\"], ax2, 10)\n",
    "\n",
    "# change the y axis label font size\n",
    "ax1.set_title(\"Top 15 Coffee Origin Countries\")\n",
    "ax1.set_xlabel(\"\")\n",
    "ax1.set_ylabel(\"\")\n",
    "ax1.set_xlim(0, 1300)\n",
    "\n",
    "ax2.set_title(\"Top 15 Roaster Countries\")\n",
    "ax2.set_xlabel(\"\")\n",
    "ax2.set_ylabel(\"\")\n",
    "ax2.set_xlim(0, 3500)\n",
    "plt.tight_layout()\n",
    "plt.show()"
   ]
  },
  {
   "cell_type": "markdown",
   "metadata": {},
   "source": [
    "Ethiopia is the most numerous country of origin in the dataset by far at 1040 roast reviews. Colombia and Kenya are nearly tied for second, and Guatemala is in third. *Coffea arabica* originates from Ethiopia\n",
    "\n",
    "https://www.coffeereview.com/coffee-origins/ethiopia/\n",
    "\n",
    "The forests of southwestern Ethiopia are the original botanical home of Coffea arabica, and they continue to harbor most of the unexplored genetic diversity still existing in the species.\n",
    "Much Ethiopia coffee is produced from indigenous Ethiopian varieties of Arabica; these native landrace varieties display symphonic complexities in aroma and flavor that, at their most distinctive, can make even other distinctive varieties of the world. The only currently cultivated competitor to the finest native Ethiopian varieties in respect to cup and complexity is Geisha or Gesha, which is an Ethiopia variety (a particularly brilliant one) brought to the New World.\n",
    "\n",
    "Almost all Ethiopia coffee is grown by small-holding farmers, most of whom very likely have never used chemical inputs. Not only is this reassuring to consumers, but it also makes a transition to formal organic certification relatively easy, accounting for the widespread availability of superb organic-certified Ethiopian coffee.\n",
    "\n",
    "Ethiopians deeply care about coffee and understand it. Its lore is woven into their culture. They do not produce great coffee and then go home to drink tea, as Kenyans do, or instant coffee, as sadly occurs in many of the coffee world’s other coffee-growing regions.\n",
    "\n",
    "Unfortunately for the many cash-poor villages of small-holding Ethiopia farmers, but fortunately for coffee lovers elsewhere in the world, most fine Ethiopia coffees are amazing bargains.\n",
    "\n",
    "A really distinguished coffee from the Yirgacheffe region is luminous, extraordinary, as great and distinctive as any in the world, yet it is likely to sell for routine, everyday specialty coffee prices.\n",
    "\n",
    "*World Atlas of Coffee*\n",
    "\n",
    "\n",
    "\n",
    "---\n",
    "\n",
    "Given Coffee Reviews is a US-based organization it's not surprising that the coffee roasters reviewed are overwhelmingly base in the USA. What is surprising is how many Taiwanese roasters are represented in this dataset. "
   ]
  },
  {
   "cell_type": "markdown",
   "metadata": {},
   "source": [
    "Price\n",
    "It appears that there are some coffees with very high prices. One review in 2020 has a coffee at >$5000/lb*. We will examine the distribution of prices/lb to see if there are any data errors or outliers to concern ourselves with."
   ]
  },
  {
   "cell_type": "code",
   "execution_count": null,
   "metadata": {},
   "outputs": [],
   "source": [
    "coffee[\"price_usd_adj_lb\"].describe()"
   ]
  },
  {
   "cell_type": "code",
   "execution_count": null,
   "metadata": {},
   "outputs": [],
   "source": [
    "(\n",
    "    coffee.pipe(so.Plot, x=\"price_usd_adj_lb\")\n",
    "    .add(so.Bars(), so.Hist(bins=100))\n",
    "    .label(x=\"$/lb\", y=\"Count\", title=\"Price/lb (USD)\")\n",
    "    .layout(size=(10, 5))\n",
    ")"
   ]
  },
  {
   "cell_type": "code",
   "execution_count": null,
   "metadata": {},
   "outputs": [],
   "source": [
    "(\n",
    "    coffee.reset_index()\n",
    "    .pipe(so.Plot, x=\"index\", y=\"price_usd_adj_lb\")\n",
    "    .add(so.Dot())\n",
    "    .layout(size=(10, 5))\n",
    ")"
   ]
  },
  {
   "cell_type": "code",
   "execution_count": null,
   "metadata": {},
   "outputs": [],
   "source": [
    "# $1000/lb looks like a natural cutoff to examine the outliers\n",
    "coffee[coffee[\"price_usd_adj_lb\"] > 1000].sort_values(\n",
    "    \"price_usd_adj_lb\", ascending=False\n",
    ")"
   ]
  },
  {
   "cell_type": "markdown",
   "metadata": {},
   "source": [
    "### Roasts over $1000/lb \n",
    "---\n",
    "\n",
    "**[Finca Sophia Olympus Geisha](https://www.coffeereview.com/review/gw01-finca-sophia-olympus-geisha/) - GK Coffee**\n",
    "\n",
    ">\"#1 coffee on Coffee Review’s list of the Top 30 Coffees of 2020. The coffee won first place in the washed Geisha category of the 2020 Best of Panama green coffee competition and was subsequently sold at auction for a price that broke all previous records for a green coffee. Produced at Finca Sophia entirely from trees of the celebrated Geisha variety of Arabica\"\n",
    "\n",
    "**[Panama Elida Geisha Natural 1029](https://www.coffeereview.com/review/panama-elida-geisha-natural-1029/) - Klatch Coffee**\n",
    "\n",
    " >\"First place in the 2019 Best of Panama green coffee competition and subsequently was auctioned for the then highest price ever paid for a green, unroasted coffee\"\n",
    "\n",
    "**[Elida Estate Geisha Green-Tip Natural](https://www.coffeereview.com/review/elida-estate-geisha-green-tip-natural/) - Dragonfly Coffee Roasters**\n",
    "\n",
    ">\"No. 1 coffee on Coffee Review’s list of the Top 30 Coffees of 2019. This coffee took first place in the 2019 Best of Panama green coffee competition and subsequently was auctioned for the then highest price ever paid for a green, unroasted coffee\"\n",
    "\n",
    "**[Ninety Plus Panama Geisha Estate MS Joseph Brodsky](https://www.coffeereview.com/review/ninety-plus-panama-gesha-estate-ms-joseph-brodsky-2307/) - Plat Coffee Roastery**\n",
    "\n",
    "Produced by Joseph Brodsky of Ninety Plus Estates entirely of the Gesha variety of Arabica, and processed by a proprietary method the producer refers to as “Jose Alfred’s Innovation.”\n",
    "\n",
    "**[GW03 Princesa Carmen Geisha](https://www.coffeereview.com/review/gw03-princesa-carmen-geisha/) - GK Coffee**\n",
    "\n",
    "No. 3 coffee on Coffee Review’s list of the Top 30 Coffees of 2023. Produced by Carlos Aguilera of Carmen Estate, entirely of the Geisha variety of Arabica, and processed by the traditional washed method (fruit skin and pulp removed before drying). GK Coffee is a nano-roastery in Yilan, Taiwan, that offers both retail and wholesale coffee\n",
    "\n",
    "**[Panama Carmen Geisha Washed Light Roast](https://www.coffeereview.com/review/panama-carmen-geisha-washed-light-roast/) - GK Coffee**\n",
    "\n",
    "Produced by Carlos Aguilera of Carmen Estate, entirely of the Geisha variety of Arabica, and processed by the traditional washed method (fruit skin and pulp removed before drying). GK Coffee is a nano-roastery in Yilan, Taiwan, that offers both retail and wholesale coffee.\n",
    "\n",
    "---\n",
    "\n",
    "There are some common features among these high-priced roasts. All of them are Geisha variety Arabica coffees growin in Panama. Geisha coffee gained prominence in the 2000s when Panama's Hacienda La Esmeralda used it to win the Specialty Coffee Association's \"Best of Panama\" competition every year from 2004 through 2007, and again in 2009 and 2010. These award winning coffees broke records for the highest price at auction year over year. Geisha coffee has continued to command a premium price as other growers in the region have begun to cultivate it.[1] Some of the roasts above also earned top spots in Coffee Review's annual list of top coffees, including some first place finishes. Carmen Estate and Elida Estate also occur twice in the list and GK Coffee roaster three times. These roasts then seem to have a combination of high quality, roaster and grower prestige, rarity, and hype that allowed them to achieve very high auction prices. \n",
    "\n",
    "\n",
    "1. World Atlas of coffee\n"
   ]
  },
  {
   "cell_type": "markdown",
   "metadata": {},
   "source": [
    "### Remove Outliers\n",
    "We will remove these exceptionally priced coffees from the dataset for the purposes of our analysis."
   ]
  },
  {
   "cell_type": "code",
   "execution_count": null,
   "metadata": {},
   "outputs": [],
   "source": [
    "coffee = coffee[coffee[\"price_usd_adj_lb\"] < 1000]\n",
    "(\n",
    "    coffee.reset_index()\n",
    "    .pipe(so.Plot, x=\"index\", y=\"price_usd_adj_lb\")\n",
    "    .add(so.Dot())\n",
    "    .layout(size=(10, 5))\n",
    ")"
   ]
  },
  {
   "cell_type": "code",
   "execution_count": null,
   "metadata": {},
   "outputs": [],
   "source": [
    "filtered = coffee[\n",
    "    [\n",
    "        \"rating\",\n",
    "        \"aroma\",\n",
    "        \"body\",\n",
    "        \"flavor\",\n",
    "        \"aftertaste\",\n",
    "        \"acidity\",\n",
    "        \"agtron_ground\",\n",
    "        \"agtron_external\",\n",
    "        \"price_usd_adj_lb\",\n",
    "    ]\n",
    "]\n",
    "\n",
    "sns.pairplot(filtered, kind=\"reg\")"
   ]
  },
  {
   "cell_type": "code",
   "execution_count": null,
   "metadata": {},
   "outputs": [],
   "source": [
    "roast_count = (\n",
    "    coffee[\"roast_level\"]\n",
    "    .value_counts()\n",
    "    .reset_index()\n",
    "    .sort_values(\"count\", ascending=False)\n",
    ")\n",
    "\n",
    "plt.figure(figsize=(10.5, 7))\n",
    "sns.barplot(\n",
    "    data=roast_count,\n",
    "    y=\"roast_level\",\n",
    "    x=\"count\",\n",
    "    order=[\"Light\", \"Medium-Light\", \"Medium\", \"Medium-Dark\", \"Dark\", \"Very Dark\"],\n",
    "    palette=\"viridis\",\n",
    ")\n",
    "plt.ylabel(\"Roast Level\")\n",
    "plt.tight_layout()\n",
    "plt.show()"
   ]
  },
  {
   "cell_type": "markdown",
   "metadata": {},
   "source": [
    "### Explore Distributions and Correlations"
   ]
  },
  {
   "cell_type": "code",
   "execution_count": null,
   "metadata": {},
   "outputs": [],
   "source": [
    "# Rating, acidity, body, flavor,\n",
    "# aftertaste, acidity, agtrons, price_per_lbs, quantity_lbs\n",
    "sns.set_theme()\n",
    "\n",
    "coffee_numeric = coffee.select_dtypes(include=[np.number])\n",
    "fig, axs = plt.subplots(3, 4, figsize=(10.5, 7), dpi=300)\n",
    "\n",
    "cols = [\n",
    "    \"rating\",\n",
    "    \"acidity\",\n",
    "    \"body\",\n",
    "    \"flavor\",\n",
    "    \"aftertaste\",\n",
    "    \"acidity\",\n",
    "    \"agtron_ground\",\n",
    "    \"agtron_external\",\n",
    "    \"price_usd_adj_2024\",\n",
    "    \"quantity_in_lbs\",\n",
    "    \"price_usd_adj_lb\",\n",
    "]\n",
    "for i, col in enumerate(cols):\n",
    "    # Plot kde for continuous variables, histogram for discrete variables\n",
    "    kde = True\n",
    "    if coffee_numeric[col].dtype == \"int\":\n",
    "        kde = False\n",
    "    sns.histplot(coffee_numeric[col], ax=axs[i // 4, i % 4], kde=kde)\n",
    "    ax = axs[i // 4, i % 4]\n",
    "    ax.set_title(col)\n",
    "    ax.set_xlabel(\"\")\n",
    "    ax.set_ylabel(\"\")\n",
    "\n",
    "plt.tight_layout()\n",
    "plt.show()"
   ]
  },
  {
   "cell_type": "markdown",
   "metadata": {},
   "source": [
    "# Price per Pound`"
   ]
  },
  {
   "cell_type": "code",
   "execution_count": null,
   "metadata": {},
   "outputs": [],
   "source": [
    "COL = \"price_usd_lb_2024\"\n",
    "filtered = coffee_numeric[coffee_numeric[COL] < 200]\n",
    "\n",
    "fig, axs = plt.subplots(1, 2, figsize=(10, 7.5))\n",
    "sns.histplot(coffee_numeric, x=COL, ax=axs[0], kde=True)\n",
    "sns.histplot(filtered, x=COL, ax=axs[1], kde=True)\n",
    "plt.tight_layout()\n",
    "plt.show()"
   ]
  },
  {
   "cell_type": "code",
   "execution_count": null,
   "metadata": {},
   "outputs": [],
   "source": [
    "mask = coffee[\"title\"].str.contains(\"Geisha\")\n",
    "coffee_geisha = coffee[mask & (coffee[\"price_usd_adj_lb\"] < 800)]\n",
    "coffee_other = coffee[~mask & (coffee[\"price_usd_adj_lb\"] < 800)]\n",
    "\n",
    "fig, ax = plt.subplots(figsize=(10.5, 7))\n",
    "sns.histplot(coffee_geisha, x=\"price_usd_adj_lb\", bins=100, stat=\"density\", kde=True)\n",
    "sns.histplot(coffee_other, x=\"price_usd_adj_lb\", bins=100, stat=\"density\", kde=True)\n",
    "plt.show()"
   ]
  },
  {
   "cell_type": "code",
   "execution_count": null,
   "metadata": {},
   "outputs": [],
   "source": [
    "coffee_civet = coffee[(coffee[\"title\"].str.contains(\"Civet\")) | (coffee[\"notes   \"])]\n",
    "non_civet = coffee[\n",
    "    ~coffee[\"title\"].str.contains(\"Civet\") & ~(coffee[\"title\"].str.contains(\"Geisha\"))\n",
    "]\n",
    "\n",
    "sns.boxplot(data=[coffee_civet[\"price_usd_adj_lb\"], non_civet[\"price_usd_adj_lb\"]])"
   ]
  },
  {
   "cell_type": "code",
   "execution_count": null,
   "metadata": {},
   "outputs": [],
   "source": [
    "# Roasts with external agtron readings of 0 are roasts that were purchased and reviewed\n",
    "# pre-ground. Therefore no external agtron measurement was possible change these to NAN\n",
    "coffee[coffee[\"agtron_external\"] == 0]"
   ]
  },
  {
   "cell_type": "code",
   "execution_count": null,
   "metadata": {},
   "outputs": [],
   "source": []
  },
  {
   "cell_type": "code",
   "execution_count": null,
   "metadata": {},
   "outputs": [],
   "source": []
  },
  {
   "cell_type": "code",
   "execution_count": null,
   "metadata": {},
   "outputs": [],
   "source": []
  },
  {
   "cell_type": "code",
   "execution_count": null,
   "metadata": {},
   "outputs": [],
   "source": []
  }
 ],
 "metadata": {
  "kernelspec": {
   "display_name": "venv",
   "language": "python",
   "name": "python3"
  },
  "language_info": {
   "codemirror_mode": {
    "name": "ipython",
    "version": 3
   },
   "file_extension": ".py",
   "mimetype": "text/x-python",
   "name": "python",
   "nbconvert_exporter": "python",
   "pygments_lexer": "ipython3",
   "version": "3.12.4"
  }
 },
 "nbformat": 4,
 "nbformat_minor": 2
}
